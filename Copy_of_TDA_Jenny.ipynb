{
  "nbformat": 4,
  "nbformat_minor": 0,
  "metadata": {
    "colab": {
      "name": "Copy of TDA_Jenny",
      "provenance": [],
      "include_colab_link": true
    },
    "kernelspec": {
      "name": "python3",
      "display_name": "Python 3"
    },
    "language_info": {
      "name": "python"
    }
  },
  "cells": [
    {
      "cell_type": "markdown",
      "metadata": {
        "id": "view-in-github",
        "colab_type": "text"
      },
      "source": [
        "<a href=\"https://colab.research.google.com/github/noppa/tda-project-2021/blob/Oskari/Copy_of_TDA_Jenny.ipynb\" target=\"_parent\"><img src=\"https://colab.research.google.com/assets/colab-badge.svg\" alt=\"Open In Colab\"/></a>"
      ]
    },
    {
      "cell_type": "code",
      "metadata": {
        "id": "mOdIS2kjVob_"
      },
      "source": [
        "from sklearn.model_selection import train_test_split\n",
        "import pandas as pd"
      ],
      "execution_count": 2,
      "outputs": []
    },
    {
      "cell_type": "code",
      "metadata": {
        "id": "UepQtfHzWS5V"
      },
      "source": [
        "random_seed = 9340923"
      ],
      "execution_count": 3,
      "outputs": []
    },
    {
      "cell_type": "code",
      "metadata": {
        "colab": {
          "base_uri": "https://localhost:8080/"
        },
        "id": "oQ3SKN2HmZ0c",
        "outputId": "c3dda427-3865-471a-9fe2-a836978669eb"
      },
      "source": [
        "# haetaan aineistot\n",
        "!wget -nc -O PER-ORG-relations-combined-group-2.tsv http://dl.turkunlp.org/TKO_8964_2021/PER-ORG-relations-combined-group-2.tsv\n",
        "\n",
        "# Luetaan train-tiedosto ja tallennetaan käyttäen pandas-kirjastoa (importattu as pd).\n",
        "with open(\"PER-ORG-relations-combined-group-2.tsv\", \"r\") as f:\n",
        "  train = pd.read_csv((\"PER-ORG-relations-combined-group-2.tsv\"), header=0, names=['annotation','text'], sep='\\t') \n",
        "\n",
        "# Katsotaan, miltä data näyttää.\n",
        "print(train[:10])\n",
        "print(type(train))"
      ],
      "execution_count": 4,
      "outputs": [
        {
          "output_type": "stream",
          "text": [
            "--2021-06-24 18:55:36--  http://dl.turkunlp.org/TKO_8964_2021/PER-ORG-relations-combined-group-2.tsv\n",
            "Resolving dl.turkunlp.org (dl.turkunlp.org)... 195.148.30.23\n",
            "Connecting to dl.turkunlp.org (dl.turkunlp.org)|195.148.30.23|:80... connected.\n",
            "HTTP request sent, awaiting response... 200 OK\n",
            "Length: 505912 (494K) [application/octet-stream]\n",
            "Saving to: ‘PER-ORG-relations-combined-group-2.tsv’\n",
            "\n",
            "PER-ORG-relations-c 100%[===================>] 494.05K   463KB/s    in 1.1s    \n",
            "\n",
            "2021-06-24 18:55:37 (463 KB/s) - ‘PER-ORG-relations-combined-group-2.tsv’ saved [505912/505912]\n",
            "\n",
            "                                     annotation                                               text\n",
            "0421f5ce-eab2-3eb4-9bec-a4067cd3c870     reject  Kuolleita 1676 – Pietro Francesco Caletti - Br...\n",
            "17c04447-9a9f-37aa-9eba-73b368f33895     reject  <ORG>Terve . fi</ORG> - sivusto 29 . 10 . 2014...\n",
            "2ac2440b-9cfe-3537-a81d-f8ff139f3ff5     accept  22 . syyskuuta 1937 <ORG>NKVD : n</ORG> agentt...\n",
            "d147dc04-7271-3fec-bad8-611bb47a6c89     accept  Helsingin yliopiston valtiosääntöoikeuden prof...\n",
            "2ffd7378-a465-30d6-a1e9-01ab31827676     reject  Silja Linen logossa on teksti <ORG>Silja Line<...\n",
            "b051fa4d-ab21-35ab-8a75-2bb54cd7c996     accept  <PERSON>Mäkitalo</PERSON> soitti usean vuoden ...\n",
            "ad433dbf-c24b-3608-9f7f-9a7cf452cfb7     accept  <PERSON>Salminen</PERSON> toimii myös <ORG>Mäk...\n",
            "cdb84039-5943-3737-80b1-1beb9ba49c09     reject  Jumalan katsotaan ilmoittaneen tahtonsa Israel...\n",
            "11eb13d0-9e31-30cb-a74c-5301ea3bdab5     reject  Huolimatta kirjan aluksi saamasta viileästä va...\n",
            "61eb8f2d-fb65-3de2-bddd-31d755c757cb     reject  <ORG>Relation</ORG> - lehden etusivu vuodelta ...\n",
            "<class 'pandas.core.frame.DataFrame'>\n"
          ],
          "name": "stdout"
        }
      ]
    },
    {
      "cell_type": "code",
      "metadata": {
        "colab": {
          "base_uri": "https://localhost:8080/"
        },
        "id": "jgVrRdOMcc_z",
        "outputId": "910d7896-1a47-4204-b23f-b4499322fc19"
      },
      "source": [
        "train[\"text\"]"
      ],
      "execution_count": 11,
      "outputs": [
        {
          "output_type": "execute_result",
          "data": {
            "text/plain": [
              "0421f5ce-eab2-3eb4-9bec-a4067cd3c870    Kuolleita 1676 – Pietro Francesco Caletti - Br...\n",
              "17c04447-9a9f-37aa-9eba-73b368f33895    <ORG>Terve . fi</ORG> - sivusto 29 . 10 . 2014...\n",
              "2ac2440b-9cfe-3537-a81d-f8ff139f3ff5    22 . syyskuuta 1937 <ORG>NKVD : n</ORG> agentt...\n",
              "d147dc04-7271-3fec-bad8-611bb47a6c89    Helsingin yliopiston valtiosääntöoikeuden prof...\n",
              "2ffd7378-a465-30d6-a1e9-01ab31827676    Silja Linen logossa on teksti <ORG>Silja Line<...\n",
              "                                                              ...                        \n",
              "bedd86bc-292a-362d-a217-f59663f3fa28    Cherry Bombzin hajoamisen jälkeen <PERSON>Bish...\n",
              "d08e9051-1c74-318f-a936-9c77b3c5bb51    <ORG>Skotlannin jalkapalloliitto</ORG> erotti ...\n",
              "9bedf73b-e82a-35e4-9ca7-1a4d052c45be    <PERSON>Zakajev</PERSON> on entinen <ORG>Grozn...\n",
              "5ee79906-1306-3d56-a47a-38aa399967bf    Vastoinkäymisiä kohdanneesta matkanteosta huol...\n",
              "ea9b68b2-202a-3105-9c0b-82ecc7f10e6d    Pelaajaura <ORG>Liverpoolin</ORG> oma kasvatti...\n",
              "Name: text, Length: 1900, dtype: object"
            ]
          },
          "metadata": {
            "tags": []
          },
          "execution_count": 11
        }
      ]
    },
    {
      "cell_type": "code",
      "metadata": {
        "id": "TfszuNRjV9Rj",
        "colab": {
          "base_uri": "https://localhost:8080/"
        },
        "outputId": "d0f85720-aded-4827-92b3-7e0550a73988"
      },
      "source": [
        "# Jaetaan data koulutus- ja validointiseteiksi\n",
        "labels = [\"text\", \"annotation\"]\n",
        "train_text, test_text, train_annot, test_anoot = train_test_split(\n",
        "    train[\"text\"],\n",
        "    train[\"annotation\"],\n",
        "    shuffle=True,\n",
        "    random_state=random_seed\n",
        ")"
      ],
      "execution_count": 14,
      "outputs": [
        {
          "output_type": "execute_result",
          "data": {
            "text/plain": [
              "1f6c2cf7-98c0-38b0-b3aa-d244f5c2ae3f    accept\n",
              "8094675a-195f-36f6-a9d6-9c62294afda3    accept\n",
              "589c1278-04ea-3047-a9c0-0e5cd472741d    reject\n",
              "b255c06a-d302-38af-9081-078e4b0173c1    accept\n",
              "9bc699a5-4e4b-3ddf-a1f7-317a79c5e05b    reject\n",
              "                                         ...  \n",
              "7e305664-53e3-3729-8481-8cc24fc6356a    accept\n",
              "53e759cf-f4c4-3da3-8d43-c33f293753bb    accept\n",
              "a46edcc4-9c90-34ef-98e1-09e0848b92a4    reject\n",
              "94f1d460-eb9f-3cb3-b97e-0a59f9ef86ed    accept\n",
              "17d4424f-7278-360e-8ead-cf88fa325eed    reject\n",
              "Name: annotation, Length: 1425, dtype: object"
            ]
          },
          "metadata": {
            "tags": []
          },
          "execution_count": 14
        }
      ]
    },
    {
      "cell_type": "code",
      "metadata": {
        "colab": {
          "base_uri": "https://localhost:8080/"
        },
        "id": "8mLmE3DFqKwN",
        "outputId": "2239e638-bdad-4b47-8f89-48ffd311abea"
      },
      "source": [
        "for label, text in list(zip(train_annot, train_text))[:20]:\n",
        "  print(label,text)"
      ],
      "execution_count": 16,
      "outputs": [
        {
          "output_type": "stream",
          "text": [
            "accept Masterointi : <PERSON>Svante Forsbäck</PERSON> , <ORG>Chartmakers</ORG> .\n",
            "accept Mä olen menossa <ORG>Hiusgalleriaan</ORG> <PERSON>Tarjan</PERSON> hoiviin .\n",
            "reject Pelaaja Joukkue Kunnarit Lyödyt Yhteensä 1 . Jussi Kiikeri Ilmajoen Kisailijat 2 30 32 2 . <PERSON>Ahti Eteläpää</PERSON> Kouvolan Pallonlyöjät 2 25 27 3 . Pentti Katainen <ORG>Työväen Mailapojat</ORG> 2 24 26 4 .\n",
            "accept Seuraavan vuoden elokuussa <PERSON>Gertrud Klink</PERSON> avioitui maalaislääkäri Günther Scholtzin kanssa , joka oli myös natsipuolueen paikallisjohtajia . paikallisjohtaja = Ortsgruppenführer Vuonna 1932 hän osallistui <ORG>NSF : n</ORG> aluejohtajien kokouksiin Münchenissä ja Berliinissä .\n",
            "reject Miten olisi ollut <ORG>Jokereissa</ORG> , mahdollisesti ekan pahan tappiokierteen myötä kokematon / nimetön valmentaja olisi saanut <PERSON>Hjalmarin</PERSON> monon takalistoon ja olisi tällä hetkellä Mestis koutsi , joka sai liigasta potkut .\n",
            "reject <ORG>Sana</ORG> - lehden Anne Valkonen piti <PERSON>Salmisen</PERSON> James Tyronea \" uskomattomana \" .\n",
            "reject Kansallisesti tunnetuksi <PERSON>Alex Niemisen</PERSON> teki <ORG>MTV3</ORG> - kanavalla 90 - luvun puolivälissä näytetty Verkossa - ohjelma , jossa käsiteltiin internetin käyttöä kotikäyttäjän näkökulmasta .\n",
            "accept Ura <PERSON>Méjri</PERSON> aloitti uransa <ORG>CS Hammam - Lifissä</ORG> vuonna 2005 , josta hän siirtyi vuonna 2007 Espéranceen vuoteen 2010 kestävällä sopimuksella .\n",
            "reject 1960 - luvun puolivälistä 1980 - luvulle toiminta oli pääosin valtioiden hallinnassa , <PERSON>Margaret Thatcherin</PERSON> Englannin koko <ORG>EU</ORG> - alueella musiikkia jakeleva kaupallinen TV - yhtiö oli murroksen alku .\n",
            "accept Jatkoajan puhuttavin hetki oli , kun <ORG>Peliittojen</ORG> kultakypärä <PERSON>Christian Silfver</PERSON> kaadettiin selkeässä maalintekopaikassa .\n",
            "reject Aiheesta muualla Hui Shin elämä englanniksi , <ORG>Stanford Encyclopedia of Philosophy</ORG> Watson , <PERSON>Burton</PERSON> , tr . 1968 .\n",
            "reject Hänen isänsä oli filosofian tohtori Adolf Waldemar Jahnsson , joka toimi tuolloin <ORG>Turun ruotsalaisen klassillisen lyseon</ORG> lehtorina , <PERSON>Zetterberg</PERSON> , s . 28 ja äitinsä Ida Sofia Magdalena Helander .\n",
            "reject <PERSON>Vanhasen</PERSON> pro gradu - tutkielman aihe 1989 oli <ORG>Valtioneuvoston</ORG> selonteko julkisen hallinnon toimintaa ohjaavana asiakirjana .\n",
            "accept Palkinto on nimetty legendaarisen <ORG>Real Madrid</ORG> - valmentaja <PERSON>Miguel Muñozin</PERSON> mukaan .\n",
            "reject Vuoden 1996 puoluekokouksessa <PERSON>Blair</PERSON> ilmoitti kolmeksi päätavoitteekseen \" koulutuksen , koulutuksen ja koulutuksen . \" John Majorin johtama epäsuosittu konservatiivihallitus , joka itsessään oli jakautunut Eurooppa - kysymyksessä hävisi selvin luvuin vuoden 1997 vaalit <ORG>Labourin</ORG> saadessa 66 % parlamenttipaikoista ( 418 vs .\n",
            "accept SHENHUA Maaliskuussa 2014 <PERSON>Batista</PERSON> palasi <ORG>Shanghai Greenlandiksi</ORG> nimensä muuttaneen kiinalaisseuran päävalmentajaksi .\n",
            "reject Hänet hankittiin <ORG>Pattijoen</ORG> lukkariksi Nurmon Jymyyn siirtyneen <PERSON>Antti Tokkarin</PERSON> tilalle .\n",
            "accept <ORG>SVL : n</ORG> pitkäikäisin puheenjohtaja <PERSON>Juho Hietanen</PERSON> ( 1879 – 1954 ) hankki alun perin puutarhurin koulutuksen , mutta päästyään kauppa - apulaiseksi hän päättikin ryhtyä kauppiaaksi .\n",
            "reject <ORG>TuTo</ORG> käytti ylivoimansa samantien hyväksi , kun Aition pystysyötöstä <PERSON>Ville Luoma</PERSON> karkasi läpi toisen turkulaisen kanssa .\n",
            "reject <ORG>Ateneumin taidemuseo</ORG> hankki vuonna 2004 <PERSON>Hiltusen</PERSON> kilpailuehdotuksen Passio Musicaen vuodelta 1961 .\n"
          ],
          "name": "stdout"
        }
      ]
    }
  ]
}