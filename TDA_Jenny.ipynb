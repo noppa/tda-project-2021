{
  "nbformat": 4,
  "nbformat_minor": 0,
  "metadata": {
    "colab": {
      "name": "TDA_Jenny",
      "provenance": [],
      "authorship_tag": "ABX9TyNHK3vxz7rPO9kBpQy8nEqw",
      "include_colab_link": true
    },
    "kernelspec": {
      "name": "python3",
      "display_name": "Python 3"
    },
    "language_info": {
      "name": "python"
    }
  },
  "cells": [
    {
      "cell_type": "markdown",
      "metadata": {
        "id": "view-in-github",
        "colab_type": "text"
      },
      "source": [
        "<a href=\"https://colab.research.google.com/github/noppa/tda-project-2021/blob/Jenny/TDA_Jenny.ipynb\" target=\"_parent\"><img src=\"https://colab.research.google.com/assets/colab-badge.svg\" alt=\"Open In Colab\"/></a>"
      ]
    },
    {
      "cell_type": "code",
      "metadata": {
        "colab": {
          "base_uri": "https://localhost:8080/"
        },
        "id": "oQ3SKN2HmZ0c",
        "outputId": "5a0475d7-5cda-4b06-af4f-a6187c17298f"
      },
      "source": [
        "# importataan koodissa tarvittavat asiat\n",
        "import pandas as pd\n",
        "\n",
        "# haetaan aineistot\n",
        "!wget -nc -O PER-ORG-relations-combined-group-2.tsv http://dl.turkunlp.org/TKO_8964_2021/PER-ORG-relations-combined-group-2.tsv\n",
        "\n",
        "# Luetaan train-tiedosto ja tallennetaan käyttäen pandas-kirjastoa (importattu as pd).\n",
        "with open(\"PER-ORG-relations-combined-group-2.tsv\", \"r\") as f:\n",
        "  train = pd.read_csv((\"PER-ORG-relations-combined-group-2.tsv\"), header=0, names=['annotation','text'], sep='\\t') \n",
        "\n",
        "# Katsotaan, miltä data näyttää.\n",
        "print(train[:10])\n",
        "print(type(train))"
      ],
      "execution_count": 13,
      "outputs": [
        {
          "output_type": "stream",
          "text": [
            "File ‘PER-ORG-relations-combined-group-2.tsv’ already there; not retrieving.\n",
            "                                     annotation                                               text\n",
            "0421f5ce-eab2-3eb4-9bec-a4067cd3c870     reject  Kuolleita 1676 – Pietro Francesco Caletti - Br...\n",
            "17c04447-9a9f-37aa-9eba-73b368f33895     reject  <ORG>Terve . fi</ORG> - sivusto 29 . 10 . 2014...\n",
            "2ac2440b-9cfe-3537-a81d-f8ff139f3ff5     accept  22 . syyskuuta 1937 <ORG>NKVD : n</ORG> agentt...\n",
            "d147dc04-7271-3fec-bad8-611bb47a6c89     accept  Helsingin yliopiston valtiosääntöoikeuden prof...\n",
            "2ffd7378-a465-30d6-a1e9-01ab31827676     reject  Silja Linen logossa on teksti <ORG>Silja Line<...\n",
            "b051fa4d-ab21-35ab-8a75-2bb54cd7c996     accept  <PERSON>Mäkitalo</PERSON> soitti usean vuoden ...\n",
            "ad433dbf-c24b-3608-9f7f-9a7cf452cfb7     accept  <PERSON>Salminen</PERSON> toimii myös <ORG>Mäk...\n",
            "cdb84039-5943-3737-80b1-1beb9ba49c09     reject  Jumalan katsotaan ilmoittaneen tahtonsa Israel...\n",
            "11eb13d0-9e31-30cb-a74c-5301ea3bdab5     reject  Huolimatta kirjan aluksi saamasta viileästä va...\n",
            "61eb8f2d-fb65-3de2-bddd-31d755c757cb     reject  <ORG>Relation</ORG> - lehden etusivu vuodelta ...\n",
            "<class 'pandas.core.frame.DataFrame'>\n"
          ],
          "name": "stdout"
        }
      ]
    },
    {
      "cell_type": "code",
      "metadata": {
        "colab": {
          "base_uri": "https://localhost:8080/"
        },
        "id": "8mLmE3DFqKwN",
        "outputId": "2295a5a1-17cc-4b99-8d46-bad7486ef588"
      },
      "source": [
        "# Seuraavaksi luetaan tekstit ja niiden annotationit omiin listoihinsa.\n",
        "\n",
        "train_texts = []\n",
        "for i in train[\"text\"]:\n",
        "  train_texts.append(i)\n",
        "train_labels = []\n",
        "for i in train[\"annotation\"]:\n",
        "  train_labels.append(i)\n",
        "\n",
        "# Tarkistetaan että molemmissa on tekstejä yhtä paljon kuin labeleitä\n",
        "\n",
        "assert len(train_texts) == len(train_labels)\n",
        "\n",
        "# Katsotaan, mitä listat pitävät sisällään.\n",
        "\n",
        "for label, text in list(zip(train_labels, train_texts))[:20]:\n",
        "  print(label,text)"
      ],
      "execution_count": 15,
      "outputs": [
        {
          "output_type": "stream",
          "text": [
            "reject Kuolleita 1676 – Pietro Francesco Caletti - Bruni ( ” Francesco Cavalli ” ) , italialainen säveltäjä ( s . 1602 ) 1742 – Edmond Halley , englantilainen tähtitieteilijä ( s . 1656 ) 1831 – Anton Delvig , venäläinen runoilija ( s . 1798 ) 1898 – Charles Lutwidge Dodgson ( ” Lewis Carroll ” ) , englantilainen kirjailija ( Liisan seikkailut ihmemaassa ) ja matemaatikko ( s . 1832 ) 1946 – Antti Hackzell , Suomen pääministeri ( s . 1881 ) 1957 – Humphrey Bogart , yhdysvaltalainen Oscar - palkittu näyttelijä ( Afrikan kuningatar ( 1951 ) ) ( s . 1899 ) 1961 – Herman , <ORG>Suomen ortodoksisen kirkon</ORG> arkkipiispa ( s . 1878 ) 1972 – Fredrik IX , Tanskan kuningas ( s . 1899 ) 1977 – <PERSON>Anthony Eden</PERSON> , Yhdistyneen kuningaskunnan pääministeri ( 1955 – 1957 ) ( s . 1897 ) 1977 – Frederick George Peter Ingle - Finch ( ” Peter Finch ” ) , englantilais - australialainen postuumisti Oscar - palkittu näyttelijä ( s . 1916 ) 1977 – Anaïs Nin , ranskalainen kirjailija ( s . 1903 ) 1978 – Kurt Gödel , itävaltalais - yhdysvaltalainen matemaatikko ja filosofi 1984 – Ray Kroc , yhdysvaltalainen liikemies ( McDonald ' s - ravintolaketjun perustaja ) ( s . 1902 ) 1986 – Donna Belle Mullenger ( ” Donna Reed ” ) , yhdysvaltalainen Oscar - palkittu näyttelijä ( Täältä ikuisuuteen ) ( s . 1921 ) 1987 – Rauli ” Badding ” Somerjoki , suomalainen muusikko ( s . 1947 ) 1988 – Georgi Malenkov , Neuvostoliiton johtaja ( s . 1902 ) 1991 – Antti Hammarberg ( ” Irwin Goodman ” ) , suomalainen muusikko ( s . 1943 ) 2006 – Shelley Schrift ( ” Shelley Winters ” ) , yhdysvaltalainen näyttelijä ( s . 1920 ) 2007 – Darlene Conley , yhdysvaltalais - irlantilainen näyttelijä ( s . 1934 ) 2016 – Alan Rickman , englantilainen elokuva - ja teatterinäyttelijä ( s . 1946 ) Katso myös : kalenteri ~ 13 . tammikuuta , 15 .\n",
            "reject <ORG>Terve . fi</ORG> - sivusto 29 . 10 . 2014 . Zeineh MM , Kang J , <PERSON>Atlas SW</PERSON> , et al .\n",
            "accept 22 . syyskuuta 1937 <ORG>NKVD : n</ORG> agentti <PERSON>Nikolai Skoblin</PERSON> kidnappasi Millerin Pariisissa .\n",
            "accept Helsingin yliopiston valtiosääntöoikeuden professori Tuomas Ojanen ja <ORG>Tampereen yliopiston</ORG> apulaisprofessori <PERSON>Juha Lavapuro</PERSON> tyrmäävät rikosoikeuden asiantuntijoiden näkemykset siitä , että äärioikeistolaisen vastarintaliikkeen kaltaisten järjestöjen toiminnan kieltäminen olisi vaikeaa .\n",
            "reject Silja Linen logossa on teksti <ORG>Silja Line</ORG> ja tekstin perässä Silja Linen kehittämä hyljehahmo , <PERSON>Harri</PERSON> - hylje .\n",
            "accept <PERSON>Mäkitalo</PERSON> soitti usean vuoden ajan myös yhteispohjoismasessa <ORG>Arctic Big Bandissä</ORG> .\n",
            "accept <PERSON>Salminen</PERSON> toimii myös <ORG>Mäkelänrinteen urheilulukion</ORG> koripallovalmentajana .\n",
            "reject Jumalan katsotaan ilmoittaneen tahtonsa Israelin kansalle suorana ilmoituksena <PERSON>Moosekselle</PERSON> Siinainvuorella sekä <ORG>Tanakin</ORG> profeettojen kautta .\n",
            "reject Huolimatta kirjan aluksi saamasta viileästä vastaanotosta , kaksikymmentä vuotta myöhemmin se sijoittui Times - lehden äänestyksessä Englannin lapsien toiseksi suurimmaksi kirjallisuussuosikiksi heti <PERSON>Roald Dahlin</PERSON> Jali ja suklaatehdas - kirjan jälkeen . Lindskoog s . 122 Lewis itse ei uskonut saavansa juurikaan mainetta kirjailijana , vaan hän epäili olevansa \" yksi niistä jotka olivat kuuluisia kirjailijoita nelissäkymmenissä , mutta kuolivat tuntemattomina \" . Narnia : Opas fantasiamaailmaan s . 120 Kirjat saavuttivat jo Lewisin elinaikana suuren suosion , ja esimerkiksi The Guardian - lehden kirja - arvostelussa Velhosta ja leijonasta todettiin : Narnia : Opas fantasiamaailmaan s . 5 Toisessa arvostelussa , jonka Chad Walsh kirjoitti <ORG>New York Times Book Review ' hun</ORG> , sanottiin : \" Tarina on pojille ja tytöille , jotka haluavat kääpiönsä ja fauninsa yhtä lihallisina kuin kulmassa seisovan liikennepoliisin \" . Narnia : Opas fantasiamaailmaan s . 123\n",
            "reject <ORG>Relation</ORG> - lehden etusivu vuodelta 1609 <PERSON>Johann Carolus</PERSON> ( s . 1575 – k . 1634 ) oli strasbourgilaisen papin poika ja kirjansitoja , joka ansaitsi rahaa myymällä varakkaille käsin kirjoitettuja paperikopioita palkkaamansa kirjeenvaihtajaverkoston toimittamista uutisista \" Newspapers : 400 Years Young ! \" WAN .\n",
            "accept <PERSON>Emma Zimmer</PERSON> ( 14 . elokuuta 1888 – 20 . syyskuuta 1948 ) oli saksalainen keskitysleirivartija ja <ORG>SS</ORG> - nainen .\n",
            "reject Syntyneitä 1784 – Friedrich Bessel , saksalainen tähtitieteilijä ja matemaatikko ( Besselin funktiot ) ( k . 1846 ) 1849 – Emma Lazarus , yhdysvaltalainen runoilija ( k . 1887 ) 1882 – Edward Hopper , yhdysvaltalainen taidemaalari ( k . 1967 ) 1886 – Ella Maria Murrik ( Hella Wuolijoki , ” Juhani Tervapää ” , ” Felix Tuli ” ) , virolaissyntyinen näytelmäkirjailija , liikenainen , kansanedustaja ja <ORG>Yleisradion</ORG> pääjohtaja ( k . 1954 ) 1887 – Gustav Ludwig Hertz , vuoden 1925 Nobelin fysiikanpalkinnon saanut saksalainen kvanttifyysikko ( k . 1975 ) 1888 – Selman Abraham Waksman , vuoden 1952 Nobelin lääketieteen palkinnon saanut ukrainalaissyntyinen biokemisti ( k . 1973 ) 1890 – Rose Kennedy , Yhdysvaltain presidentti John F . Kennedyn äiti ( k . 1995 ) 1893 – James Whale , englantilainen elokuvaohjaaja ( Frankenstein ) ( k . 1957 ) 1898 – Alexander Calder ( ” Sandy Calder ” ) , yhdysvaltalainen kuvanveistäjä ( k . 1976 ) 1908 – Amy Vanderbilt , yhdysvaltalainen kirjailija ( etikettisääntöjen auktoriteetti ) ( k . 1974 ) 1916 – Marcel Cerdan , ranskalainen nyrkkeilijä ( maailmanmestari ) ( k . 1949 ) 1923 – <PERSON>Robert Joseph Dole</PERSON> ( ” Bob Dole ” ) , yhdysvaltalainen poliitikko , senaattori ja presidenttiehdokas 1932 – Oscar de la Renta , dominikaanilainen muotisuunnittelija 1934 – Louise Fletcher , yhdysvaltalainen Oscar - palkittu näyttelijä ( Yksi lensi yli käenpesän ) 1936 – Tom Robbins , yhdysvaltalainen kirjailija 1941 – George Clinton , yhdysvaltalainen funk - muusikko ( \" Funkadelic \" ) 1946 – Mireille Mathieu , ranskalainen laulaja 1947 – Danny Glover , yhdysvaltalainen näyttelijä ja elokuvaohjaaja ( Häivähdys purppuraa ) 1948 – Neil Hardwick , englantilaissyntyinen suomalainen teatteri - ja tv - ohjaaja sekä kirjailija ( Reinikainen ) 1949 – Alan Menken , yhdysvaltalainen säveltäjä 1949 – Lasse Virén , suomalainen kestävyysjuoksija ( nelinkertainen olympiavoittaja ) ja poliitikko 1953 – René Vandereycken , belgialainen jalkapallovalmentaja 1954 – Al Di Meola , yhdysvaltalainen jazz - kitaristi 1955 – Willem Dafoe , yhdysvaltalainen näyttelijä 1963 – Emilio Butragueño , espanjalainen jalkapalloilija 1965 – Lilli Paasikivi , suomalainen oopperalaulaja ja Suomen Kansallisoopperan taiteellinen johtaja 1965 – Michael Shawn Hickenbottom ( ” Shawn Michaels ” ) , yhdysvaltalainen showpainija 1966 – Gustavo Bolivar kolumbialainen kirjailija 1971 – Kristine\n",
            "reject Kuolleita 582 – Tiberius II Constantinus , Bysantin keisari ( s . n . 520 ) 1433 – <PERSON>Juhana I</PERSON> , Portugalin kuningas 1385 – 1433 ( s . 1357 ) 1464 – Pius II , paavi ( s . 1405 ) 1847 – Frans Mikael Franzén , suomalainen runoilija ( Människans anlete ) ( s . 1772 ) 1856 – Constant Prévost , ranskalainen geologi ( s . 1787 ) 1941 – Paul Sabatier , vuoden 1912 Nobelin kemianpalkinnon saanut ranskalainen kemisti ( s . 1854 ) 1951 – William Randolph Hearst , yhdysvaltalainen sanomalehtikustantaja ( s . 1863 ) 1956 – Bertolt Brecht , saksalainen runoilija ja näytelmäkirjailija ( Kolmen pennin ooppera ) ( s . 1898 ) 1958 – Frédéric Joliot - Curie , vuoden 1935 Nobelin kemianpalkinnon ( yhdessä puolisonsa Irène Joliot - Curien kanssa ) saanut ranskalainen kemisti ( s . 1900 ) 1958 – Konstantin von Neurath , saksalainen diplomaatti ( s . 1873 ) 1964 – Johnny Burnette , yhdysvaltalainen laulaja ( s . 1934 ) 1980 – Dorothy Ruth Hoogstraten ( ” Dorothy Stratten ” ) , kanadalainen malli ja elokuvanäyttelijä ( s . 1960 ) 1988 – Enzo Ferrari , italialainen autonvalmistaja ( Ferrari ) ( s . 1898 ) 1994 – Elias Canetti , vuoden 1981 Nobelin kirjallisuuspalkinnon saanut brittiläis - itävaltalainen kirjailija ( Marrakešin ääniä ) ( s . 1905 ) 2004 – Czesław Miłosz , vuoden 1980 Nobelin kirjallisuuspalkinnon saanut puolalainen runoilija ( Issan laakso ) ( s . 1911 ) 2006 – Elina Karjalainen , suomalainen toimittaja ja kirjailija ( Uppo - Nalle - tarinat ) ( s . 1927 ) 2007 – Tihon Hrennikov , neuvostoliittolainen säveltäjä ( <ORG>Moskovan valot</ORG> ) ( s . 1913 )\n",
            "accept <PERSON>Kitunen</PERSON> valmistui 1971 oikeustieteen kandidaatiksi <ORG>Helsingin yliopistosta</ORG> .\n",
            "reject Jack Nicholson voitti roolistaan vuoden parhaan miespääosan Golden Globe - palkinnon ja <ORG>USA : n elokuvakriitikoiden liitto</ORG> palkitsi <PERSON>Kathy Batesin</PERSON> vuoden parhaasta naissivuosasta .\n",
            "accept <PERSON>Marian Tumler</PERSON> ( 21 . lokakuuta 1887 – 18 . marraskuuta 1987 ) oli itävaltalainen teologi , joka toimi <ORG>Saksalaisen ritarikunnan</ORG> suurmestarina vuosina 1948 – 1970 .\n",
            "reject Mielenkiinto kohdistuu myös tuomarityöskentelyyn , saiko <PERSON>79</PERSON> uhoamisellaan alistettua nämä kuraperseet hänen puolelleen ja tullaanko ottelussa viheltämään jatkuvalla syötöllä rangaistuksia <ORG>Ässille</ORG> ja näin saadaan hänen sydäntään säästettyä vielä tulevien mm - kisojen kisastudiota varten .\n",
            "reject  <PERSON>Evgenin</PERSON> ollessa sivussa muutaman kerran tällä kaudella , ja muitten kavereitten loukkaannuttua , me kaikki olemme saaneet pelata eri kavereitten kanssa ,  sanoi Bonino <ORG>Penguinsin</ORG> sivulla .\n",
            "reject <PERSON>Epun</PERSON> ja Tellun sukunimi van Pelt tuli pariskunnalta , joihin Schulz tutustui asuessaan 1950 - luvun alussa vuoden ajan Colorado Springsissä Coloradossa . <ORG>Michaelis 2008</ORG> , s . 181 , 187 – 189 , 252 – 253 .\n",
            "accept 2 . tammikuuta <ORG>Shanghain avaruuskeskuksen</ORG> johtaja <PERSON>Yuan Jie</PERSON> ilmoitti , että Kiina aikoo laukaista ensimmäisen miehitetyn lennon vuoden 2003 toisella neljänneksellä .\n"
          ],
          "name": "stdout"
        }
      ]
    }
  ]
}